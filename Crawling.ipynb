{
 "cells": [
  {
   "cell_type": "code",
   "execution_count": 3,
   "metadata": {},
   "outputs": [],
   "source": [
    "import time\n",
    "from bs4 import BeautifulSoup\n",
    "from selenium import webdriver\n",
    "from selenium.webdriver.chrome.options import Options\n",
    "from selenium.webdriver.chrome.service import Service\n",
    "from webdriver_manager.chrome import ChromeDriverManager"
   ]
  },
  {
   "cell_type": "code",
   "execution_count": null,
   "metadata": {},
   "outputs": [],
   "source": [
    "total_result = []\n",
    "chrome_options = Options()\n",
    "driver = webdriver.Chrome(service=Service(ChromeDriverManager().install()), options=chrome_options)\n",
    "\n",
    "for i in range(0, 690, 30):\n",
    "    if i == 0:\n",
    "        url = 'https://www.tripadvisor.com/Hotels-g19-zfd21371-a_ufe.true-North_America-Hotels.html'\n",
    "    else:\n",
    "        url = (f'https://www.tripadvisor.com/Hotels-g19-oa{i}-zfd21371-a_ufe.true-North_America-Hotels.html')\n",
    "    \n",
    "    driver.get(url)\n",
    "    time.sleep(3)\n",
    "    soup = BeautifulSoup(driver.page_source, 'html.parser')\n",
    "    item = soup.select('a.BMQDV._F.Gv.wSSLS.SwZTJ.FGwzt.ukgoS')\n",
    "    \n",
    "    for text in item:\n",
    "        text = str(text)\n",
    "        text = text.split('Gv wSSLS SwZTJ FGwzt ukgoS\" href=\"')\n",
    "        if len(text) == 2:\n",
    "            text = text[1]\n",
    "        else:\n",
    "            print('Split Error, Result Length = {}, Need to Check start_str' .format(len(text)))\n",
    "        text = text.split('\" target=\"_blank\"><')    \n",
    "        if len(text) == 2:\n",
    "            text = text[0]\n",
    "        else:\n",
    "            print('Split Error, Result Length = {}, Need to Check end_str' .format(len(text)))\n",
    "        text = 'https://www.tripadvisor.com' + text\n",
    "        total_result.append(text)\n",
    "        \n",
    "    total_result = list(set(total_result))\n",
    "    print(len(total_result))\n"
   ]
  },
  {
   "cell_type": "code",
   "execution_count": 53,
   "metadata": {},
   "outputs": [],
   "source": [
    "import pandas as pd\n",
    "\n",
    "df = pd.DataFrame()\n",
    "for num, i in enumerate(total_result):\n",
    "    df.loc[num, 'url'] = i\n",
    "    \n",
    "df.to_csv('./NA_hotel.csv', index=False)"
   ]
  },
  {
   "cell_type": "code",
   "execution_count": null,
   "metadata": {},
   "outputs": [],
   "source": []
  }
 ],
 "metadata": {
  "kernelspec": {
   "display_name": "base",
   "language": "python",
   "name": "python3"
  },
  "language_info": {
   "codemirror_mode": {
    "name": "ipython",
    "version": 3
   },
   "file_extension": ".py",
   "mimetype": "text/x-python",
   "name": "python",
   "nbconvert_exporter": "python",
   "pygments_lexer": "ipython3",
   "version": "3.11.4"
  }
 },
 "nbformat": 4,
 "nbformat_minor": 2
}
