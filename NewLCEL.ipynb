{
 "cells": [
  {
   "cell_type": "code",
   "execution_count": 1,
   "metadata": {},
   "outputs": [],
   "source": [
    "from langchain.chat_models import ChatOpenAI\n",
    "from langchain.prompts import ChatPromptTemplate\n",
    "from langchain.schema import StrOutputParser\n",
    "from langchain.schema.runnable import RunnablePassthrough\n",
    "import json\n",
    "import os\n",
    "\n",
    "from util2.module import review_analyzer, responder\n",
    "\n",
    "# API Load\n",
    "with open('./Openai_API_Key.txt', 'r') as api:\n",
    "    os.environ[\"OPENAI_API_KEY\"] = api.read()\n"
   ]
  },
  {
   "cell_type": "code",
   "execution_count": 2,
   "metadata": {},
   "outputs": [],
   "source": [
    "result = responder(\"WTF, disgusting hotel, I don't want to here never again\")"
   ]
  },
  {
   "cell_type": "code",
   "execution_count": 5,
   "metadata": {},
   "outputs": [
    {
     "data": {
      "text/plain": [
       "{'Responding_to_Customer_Sentiment': \"We're truly sorry to hear about your negative experience at our hotel.\",\n",
       " 'Sentiment_Reason': \"WTF, disgusting hotel, I don't want to here never again\",\n",
       " 'Responding_to_Customer_Emotion': 'We understand your feelings of disgust and we deeply regret that we failed to meet your expectations.',\n",
       " 'Emotion_Reason': \"WTF, disgusting hotel, I don't want to here never again\",\n",
       " 'Responding_to_Customer_Intention': 'We would appreciate another chance to serve you better and change your perception about our hotel.',\n",
       " 'Intention_Reason': \"I don't want to here never again\",\n",
       " 'Final_Response': \"Dear customer, we're truly sorry to hear about your negative experience at our hotel. We understand your feelings of disgust and we deeply regret that we failed to meet your expectations. We would appreciate another chance to serve you better and change your perception about our hotel. Your feedback is valuable to us and we will take necessary actions to improve our services. Thank you for bringing this to our attention.\"}"
      ]
     },
     "execution_count": 5,
     "metadata": {},
     "output_type": "execute_result"
    }
   ],
   "source": [
    "result"
   ]
  },
  {
   "cell_type": "code",
   "execution_count": 2,
   "metadata": {},
   "outputs": [
    {
     "data": {
      "text/plain": [
       "{'User_Sentiment': 'Negative',\n",
       " 'User_Emotion': 'Disgust',\n",
       " 'User_Intention': 'Not to return to the hotel'}"
      ]
     },
     "execution_count": 2,
     "metadata": {},
     "output_type": "execute_result"
    }
   ],
   "source": [
    "result = review_analyzer(\"WTF, disgusting hotel, I don't want to here never again\")\n",
    "result"
   ]
  },
  {
   "cell_type": "code",
   "execution_count": null,
   "metadata": {},
   "outputs": [],
   "source": []
  }
 ],
 "metadata": {
  "kernelspec": {
   "display_name": "LLM",
   "language": "python",
   "name": "python3"
  },
  "language_info": {
   "codemirror_mode": {
    "name": "ipython",
    "version": 3
   },
   "file_extension": ".py",
   "mimetype": "text/x-python",
   "name": "python",
   "nbconvert_exporter": "python",
   "pygments_lexer": "ipython3",
   "version": "3.11.5"
  }
 },
 "nbformat": 4,
 "nbformat_minor": 2
}
