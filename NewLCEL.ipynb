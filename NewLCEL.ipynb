{
 "cells": [
  {
   "cell_type": "code",
   "execution_count": 2,
   "metadata": {},
   "outputs": [],
   "source": [
    "from langchain.chat_models import ChatOpenAI\n",
    "from langchain.prompts import ChatPromptTemplate\n",
    "from langchain.schema import StrOutputParser\n",
    "from langchain.schema.runnable import RunnablePassthrough"
   ]
  },
  {
   "cell_type": "code",
   "execution_count": 44,
   "metadata": {},
   "outputs": [],
   "source": [
    "## Local\n",
    "import os\n",
    "\n",
    "# API Load\n",
    "with open('./Openai_API_Key.txt', 'r') as api:\n",
    "    os.environ[\"OPENAI_API_KEY\"] = api.read()"
   ]
  },
  {
   "cell_type": "code",
   "execution_count": 3,
   "metadata": {},
   "outputs": [],
   "source": [
    "parser = StrOutputParser()"
   ]
  },
  {
   "cell_type": "code",
   "execution_count": 4,
   "metadata": {},
   "outputs": [
    {
     "data": {
      "text/plain": [
       "StrOutputParser()"
      ]
     },
     "execution_count": 4,
     "metadata": {},
     "output_type": "execute_result"
    }
   ],
   "source": [
    "parser"
   ]
  },
  {
   "cell_type": "code",
   "execution_count": 6,
   "metadata": {},
   "outputs": [],
   "source": [
    "functions = [\n",
    "    {\n",
    "        \"name\": \"Describer\",\n",
    "        \"description\": \"Analyze the following 'Review'\",\n",
    "        \"parameters\": {\n",
    "            \"type\": \"object\",\n",
    "            \"properties\": {\n",
    "                \"User_Sentiment\": {\n",
    "                    \"type\": \"string\",\n",
    "                    \"enum\": ['Positive', 'Neutral', 'Negative'],\n",
    "                    \"description\": \"Sentiment Analysis of the 'Review'\"\n",
    "                },\n",
    "                \"User_Emotion\": {\n",
    "                    \"type\": \"string\",\n",
    "                    \"enum\": ['Anger', 'Disgust', 'Fear', 'Happiness', 'Contempt', 'Sadness', 'Surprise'],\n",
    "                    \"description\": \"Emotion Analysis of the 'Review'\"\n",
    "                },\n",
    "                \"User_Intention\": {\n",
    "                    \"type\": \"string\",\n",
    "                    \"description\": \"Intention Analysis of the 'Review'\"\n",
    "                },\n",
    "            },\n",
    "            \"required\": [\"User_Sentiment\", \"User_Emotion\", \"User_Intention\"]\n",
    "        }\n",
    "    }\n",
    "]"
   ]
  },
  {
   "cell_type": "code",
   "execution_count": null,
   "metadata": {},
   "outputs": [],
   "source": [
    "functions = [\n",
    "    {\n",
    "        \"name\": \"Sentiment_Analyzer\",\n",
    "        \"description\": \"Analyze the sentiments of following customer reviews\",\n",
    "        \"parameters\": {\n",
    "            \"type\": \"object\",\n",
    "            \"properties\": {\n",
    "                \"User_Sentiment\": {\n",
    "                    \"type\": \"string\",\n",
    "                    \"enum\": ['Positive', 'Neutral', 'Negative'],\n",
    "                    \"description\": \"Perform Sentiment Analysis of the customer Review\"\n",
    "                },\n",
    "                \"User_Emotion\": {\n",
    "                    \"type\": \"string\",\n",
    "                    \"enum\": ['Anger', 'Disgust', 'Fear', 'Happiness', 'Contempt', 'Sadness', 'Surprise'],\n",
    "                    \"description\": \"Emotion Analysis of the 'Review'\"\n",
    "                },\n",
    "                \"User_Intention\": {\n",
    "                    \"type\": \"string\",\n",
    "                    \"description\": \"Intention Analysis of the 'Review'\"\n",
    "                },\n",
    "            },\n",
    "            \"required\": [\"User_Sentiment\", \"User_Emotion\", \"User_Intention\"]\n",
    "        }\n",
    "    }\n",
    "]"
   ]
  },
  {
   "cell_type": "code",
   "execution_count": 36,
   "metadata": {},
   "outputs": [],
   "source": [
    "prompt = ChatPromptTemplate.from_messages(\n",
    "    [\n",
    "        (\"system\", \"As an online hotel manager, analyze customer reviews.\"),\n",
    "        (\"human\", \"{analysis}\")\n",
    "    ]\n",
    ")\n",
    "model = ChatOpenAI(model=\"gpt-4\", temperature=0).bind(function_call={\"name\": \"Describer\"}, functions=functions)\n",
    "runnable = (\n",
    "    {\"analysis\": RunnablePassthrough()} \n",
    "    | prompt \n",
    "    | model\n",
    ")\n",
    "result = runnable.invoke(\"What the fuxk, this is shit. I never wanna go again. Disgusting.\")"
   ]
  },
  {
   "cell_type": "code",
   "execution_count": 43,
   "metadata": {},
   "outputs": [
    {
     "data": {
      "text/plain": [
       "'{\\n\"User_Sentiment\": \"Negative\",\\n\"User_Emotion\": \"Disgust\",\\n\"User_Intention\": \"Not to visit again\"\\n}'"
      ]
     },
     "execution_count": 43,
     "metadata": {},
     "output_type": "execute_result"
    }
   ],
   "source": [
    "result.additional_kwargs['function_call']['arguments']"
   ]
  },
  {
   "cell_type": "code",
   "execution_count": null,
   "metadata": {},
   "outputs": [],
   "source": []
  },
  {
   "cell_type": "code",
   "execution_count": null,
   "metadata": {},
   "outputs": [],
   "source": []
  }
 ],
 "metadata": {
  "kernelspec": {
   "display_name": "LLM",
   "language": "python",
   "name": "python3"
  },
  "language_info": {
   "codemirror_mode": {
    "name": "ipython",
    "version": 3
   },
   "file_extension": ".py",
   "mimetype": "text/x-python",
   "name": "python",
   "nbconvert_exporter": "python",
   "pygments_lexer": "ipython3",
   "version": "3.11.5"
  }
 },
 "nbformat": 4,
 "nbformat_minor": 2
}
